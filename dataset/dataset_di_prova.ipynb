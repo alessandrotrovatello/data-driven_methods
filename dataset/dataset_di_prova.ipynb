{
 "cells": [
  {
   "cell_type": "code",
   "execution_count": 5,
   "id": "e61497c8",
   "metadata": {},
   "outputs": [],
   "source": [
    "import numpy as np\n",
    "import matplotlib.pyplot as plt\n",
    "from numpy import dot, multiply, diag, power\n",
    "from numpy import pi, exp, sin, cos"
   ]
  },
  {
   "cell_type": "code",
   "execution_count": 6,
   "id": "c78647af",
   "metadata": {
    "scrolled": true
   },
   "outputs": [],
   "source": [
    "# define time and space domains\n",
    "x = np.linspace(-10, 10, 80)\n",
    "t = np.linspace(0, 20, 1600)\n",
    "Xm,Tm = np.meshgrid(x, t)\n",
    "\n",
    "# create data\n",
    "D = exp(-power(Xm/2, 2)) * exp(0.8j * Tm)\n",
    "D += sin(0.9 * Xm) * exp(1j * Tm)\n",
    "D += cos(1.1 * Xm) * exp(2j * Tm)\n",
    "D += 0.6 * sin(1.2 * Xm) * exp(3j * Tm)\n",
    "D += 0.6 * cos(1.3 * Xm) * exp(4j * Tm)\n",
    "D += 0.2 * sin(2.0 * Xm) * exp(6j * Tm)\n",
    "D += 0.2 * cos(2.1 * Xm) * exp(8j * Tm)\n",
    "D += 0.1 * sin(5.7 * Xm) * exp(10j * Tm)\n",
    "D += 0.1 * cos(5.9 * Xm) * exp(12j * Tm)\n",
    "D += 0.1 * np.random.randn(*Xm.shape)\n",
    "D += 0.03 * np.random.randn(*Xm.shape)\n",
    "D += 5 * exp(-power((Xm+5)/5, 2)) * exp(-power((Tm-5)/5, 2))\n",
    "D[:800,40:] += 2\n",
    "D[200:600,50:70] -= 3\n",
    "D[800:,:40] -= 2\n",
    "D[1000:1400,10:30] += 3\n",
    "D[1000:1080,50:70] += 2\n",
    "D[1160:1240,50:70] += 2\n",
    "D[1320:1400,50:70] += 2\n",
    "D = D.T\n",
    "\n",
    "# extract input-output matrices\n",
    "X = D[:,:-1]\n",
    "Y = D[:,1:]"
   ]
  },
  {
   "cell_type": "markdown",
   "id": "4d44951d",
   "metadata": {},
   "source": []
  },
  {
   "cell_type": "markdown",
   "id": "8683367a",
   "metadata": {},
   "source": []
  }
 ],
 "metadata": {
  "kernelspec": {
   "display_name": "Python 3 (ipykernel)",
   "language": "python",
   "name": "python3"
  },
  "language_info": {
   "codemirror_mode": {
    "name": "ipython",
    "version": 3
   },
   "file_extension": ".py",
   "mimetype": "text/x-python",
   "name": "python",
   "nbconvert_exporter": "python",
   "pygments_lexer": "ipython3",
   "version": "3.9.13"
  }
 },
 "nbformat": 4,
 "nbformat_minor": 5
}
